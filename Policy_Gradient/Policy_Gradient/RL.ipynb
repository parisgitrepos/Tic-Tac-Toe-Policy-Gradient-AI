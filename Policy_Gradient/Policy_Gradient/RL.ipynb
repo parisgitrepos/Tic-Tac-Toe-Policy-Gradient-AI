{
  "nbformat": 4,
  "nbformat_minor": 0,
  "metadata": {
    "colab": {
      "name": "RL.ipynb",
      "provenance": [],
      "collapsed_sections": [],
      "toc_visible": true
    },
    "kernelspec": {
      "name": "python3",
      "display_name": "Python 3"
    },
    "accelerator": "GPU"
  },
  "cells": [
    {
      "cell_type": "markdown",
      "metadata": {
        "id": "jrI6q7RmWQam",
        "colab_type": "text"
      },
      "source": [
        "<table align=\"center\">\n",
        "  <td align=\"center\"><a target=\"_blank\" href=\"http://introtodeeplearning.com\">\n",
        "        <img src=\"http://introtodeeplearning.com/images/colab/mit.png\" style=\"padding-bottom:5px;\" />\n",
        "      Visit MIT Deep Learning</a></td>\n",
        "  <td align=\"center\"><a target=\"_blank\" href=\"https://colab.research.google.com/github/aamini/introtodeeplearning/blob/master/lab3/RL.ipynb\">\n",
        "        <img src=\"http://introtodeeplearning.com/images/colab/colab.png?v2.0\"  style=\"padding-bottom:5px;\" />Run in Google Colab</a></td>\n",
        "  <td align=\"center\"><a target=\"_blank\" href=\"https://github.com/aamini/introtodeeplearning/blob/master/lab3/RL.ipynb\">\n",
        "        <img src=\"http://introtodeeplearning.com/images/colab/github.png\"  height=\"70px\" style=\"padding-bottom:5px;\"  />View Source on GitHub</a></td>\n",
        "</table>\n",
        "\n",
        "# Copyright Information"
      ]
    },
    {
      "cell_type": "code",
      "metadata": {
        "id": "wkd375upWYok",
        "colab_type": "code",
        "colab": {}
      },
      "source": [
        "# Copyright 2020 MIT 6.S191 Introduction to Deep Learning. All Rights Reserved.\n",
        "# \n",
        "# Licensed under the MIT License. You may not use this file except in compliance\n",
        "# with the License. Use and/or modification of this code outside of 6.S191 must\n",
        "# reference:\n",
        "#\n",
        "# © MIT 6.S191: Introduction to Deep Learning\n",
        "# http://introtodeeplearning.com\n",
        "#"
      ],
      "execution_count": 0,
      "outputs": []
    },
    {
      "cell_type": "markdown",
      "metadata": {
        "id": "WoXYKhfZMHiw",
        "colab_type": "text"
      },
      "source": [
        "# Laboratory 3: Reinforcement Learning\n",
        "\n",
        "Reinforcement learning (RL) is a subset of machine learning which poses learning problems as interactions between agents and environments. It often assumes agents have no prior knowledge of a world, so they must learn to navigate environments by optimizing a reward function. Within an environment, an agent can take certain actions and receive feedback, in the form of positive or negative rewards, with respect to their decision. As such, an agent's feedback loop is somewhat akin to the idea of \"trial and error\", or the manner in which a child might learn to distinguish between \"good\" and \"bad\" actions.\n",
        "\n",
        "In practical terms, our RL agent will interact with the environment by taking an action at each timestep, receiving a corresponding reward, and updating its state according to what it has \"learned\".  \n",
        "\n",
        "![alt text](https://www.kdnuggets.com/images/reinforcement-learning-fig1-700.jpg)\n",
        "\n",
        "While the ultimate goal of reinforcement learning is to teach agents to act in the real, physical world, games provide a convenient proving ground for developing RL algorithms and agents. Games have some properties that make them particularly well suited for RL: \n",
        "\n",
        "1.   In many cases, games have perfectly describable environments. For example, all rules of chess can be formally written and programmed into a chess game simulator;\n",
        "2.   Games are massively parallelizable. Since they do not require running in the real world, simultaneous environments can be run on large data clusters; \n",
        "3.   Simpler scenarios in games enable fast prototyping. This speeds up the development of algorithms that could eventually run in the real-world; and\n",
        "4.   ... Games are fun! \n",
        "\n",
        "In previous labs, we have explored both supervised (with LSTMs, CNNs) and unsupervised / semi-supervised (with VAEs) learning tasks. Reinforcement learning is fundamentally different, in that we are training a deep learning algorithm to govern the actions of our RL agent, that is trying, within its environment, to find the optimal way to achieve a goal. The goal of training an RL agent is to determine the best next step to take to earn the greatest final payoff or return. In this lab, we focus on building a reinforcement learning algorithm to master two different environments with varying complexity. \n",
        "\n",
        "1.   **Cartpole**:   Balance a pole, protruding from a cart, in an upright position by only moving the base left or right. Environment with a low-dimensional observation space.\n",
        "2.   [**Pong**](https://en.wikipedia.org/wiki/Pong): Beat your competitors (whether other AI or humans!) at the game of Pong. Environment with a high-dimensional observation space -- learning directly from raw pixels.\n",
        "\n",
        "Let's get started! First we'll import TensorFlow, the course package, and some dependencies.\n"
      ]
    },
    {
      "cell_type": "code",
      "metadata": {
        "id": "EvdePP-VyVWp",
        "colab_type": "code",
        "outputId": "6fdeafae-61a5-4f6b-9ad5-fb80e509779d",
        "colab": {
          "base_uri": "https://localhost:8080/",
          "height": 382
        }
      },
      "source": [
        "!apt-get install -y xvfb python-opengl x11-utils > /dev/null 2>&1\n",
        "!pip install gym pyvirtualdisplay scikit-video > /dev/null 2>&1\n",
        "\n",
        "%tensorflow_version 2.x\n",
        "import tensorflow as tf\n",
        "\n",
        "import numpy as np\n",
        "import base64, io, time, gym\n",
        "import IPython, functools\n",
        "import matplotlib.pyplot as plt\n",
        "from tqdm import tqdm\n",
        "\n",
        "!pip install mitdeeplearning\n",
        "import mitdeeplearning as mdl"
      ],
      "execution_count": 2,
      "outputs": [
        {
          "output_type": "stream",
          "text": [
            "Collecting mitdeeplearning\n",
            "\u001b[?25l  Downloading https://files.pythonhosted.org/packages/8b/3b/b9174b68dc10832356d02a2d83a64b43a24f1762c172754407d22fc8f960/mitdeeplearning-0.1.2.tar.gz (2.1MB)\n",
            "\r\u001b[K     |▏                               | 10kB 24.1MB/s eta 0:00:01\r\u001b[K     |▎                               | 20kB 31.3MB/s eta 0:00:01\r\u001b[K     |▌                               | 30kB 32.8MB/s eta 0:00:01\r\u001b[K     |▋                               | 40kB 21.9MB/s eta 0:00:01\r\u001b[K     |▉                               | 51kB 13.8MB/s eta 0:00:01\r\u001b[K     |█                               | 61kB 12.2MB/s eta 0:00:01\r\u001b[K     |█                               | 71kB 12.2MB/s eta 0:00:01\r\u001b[K     |█▎                              | 81kB 13.4MB/s eta 0:00:01\r\u001b[K     |█▍                              | 92kB 13.0MB/s eta 0:00:01\r\u001b[K     |█▋                              | 102kB 12.2MB/s eta 0:00:01\r\u001b[K     |█▊                              | 112kB 12.2MB/s eta 0:00:01\r\u001b[K     |█▉                              | 122kB 12.2MB/s eta 0:00:01\r\u001b[K     |██                              | 133kB 12.2MB/s eta 0:00:01\r\u001b[K     |██▏                             | 143kB 12.2MB/s eta 0:00:01\r\u001b[K     |██▍                             | 153kB 12.2MB/s eta 0:00:01\r\u001b[K     |██▌                             | 163kB 12.2MB/s eta 0:00:01\r\u001b[K     |██▊                             | 174kB 12.2MB/s eta 0:00:01\r\u001b[K     |██▉                             | 184kB 12.2MB/s eta 0:00:01\r\u001b[K     |███                             | 194kB 12.2MB/s eta 0:00:01\r\u001b[K     |███▏                            | 204kB 12.2MB/s eta 0:00:01\r\u001b[K     |███▎                            | 215kB 12.2MB/s eta 0:00:01\r\u001b[K     |███▌                            | 225kB 12.2MB/s eta 0:00:01\r\u001b[K     |███▋                            | 235kB 12.2MB/s eta 0:00:01\r\u001b[K     |███▊                            | 245kB 12.2MB/s eta 0:00:01\r\u001b[K     |████                            | 256kB 12.2MB/s eta 0:00:01\r\u001b[K     |████                            | 266kB 12.2MB/s eta 0:00:01\r\u001b[K     |████▎                           | 276kB 12.2MB/s eta 0:00:01\r\u001b[K     |████▍                           | 286kB 12.2MB/s eta 0:00:01\r\u001b[K     |████▋                           | 296kB 12.2MB/s eta 0:00:01\r\u001b[K     |████▊                           | 307kB 12.2MB/s eta 0:00:01\r\u001b[K     |████▉                           | 317kB 12.2MB/s eta 0:00:01\r\u001b[K     |█████                           | 327kB 12.2MB/s eta 0:00:01\r\u001b[K     |█████▏                          | 337kB 12.2MB/s eta 0:00:01\r\u001b[K     |█████▍                          | 348kB 12.2MB/s eta 0:00:01\r\u001b[K     |█████▌                          | 358kB 12.2MB/s eta 0:00:01\r\u001b[K     |█████▋                          | 368kB 12.2MB/s eta 0:00:01\r\u001b[K     |█████▉                          | 378kB 12.2MB/s eta 0:00:01\r\u001b[K     |██████                          | 389kB 12.2MB/s eta 0:00:01\r\u001b[K     |██████▏                         | 399kB 12.2MB/s eta 0:00:01\r\u001b[K     |██████▎                         | 409kB 12.2MB/s eta 0:00:01\r\u001b[K     |██████▌                         | 419kB 12.2MB/s eta 0:00:01\r\u001b[K     |██████▋                         | 430kB 12.2MB/s eta 0:00:01\r\u001b[K     |██████▊                         | 440kB 12.2MB/s eta 0:00:01\r\u001b[K     |███████                         | 450kB 12.2MB/s eta 0:00:01\r\u001b[K     |███████                         | 460kB 12.2MB/s eta 0:00:01\r\u001b[K     |███████▎                        | 471kB 12.2MB/s eta 0:00:01\r\u001b[K     |███████▍                        | 481kB 12.2MB/s eta 0:00:01\r\u001b[K     |███████▌                        | 491kB 12.2MB/s eta 0:00:01\r\u001b[K     |███████▊                        | 501kB 12.2MB/s eta 0:00:01\r\u001b[K     |███████▉                        | 512kB 12.2MB/s eta 0:00:01\r\u001b[K     |████████                        | 522kB 12.2MB/s eta 0:00:01\r\u001b[K     |████████▏                       | 532kB 12.2MB/s eta 0:00:01\r\u001b[K     |████████▍                       | 542kB 12.2MB/s eta 0:00:01\r\u001b[K     |████████▌                       | 552kB 12.2MB/s eta 0:00:01\r\u001b[K     |████████▋                       | 563kB 12.2MB/s eta 0:00:01\r\u001b[K     |████████▉                       | 573kB 12.2MB/s eta 0:00:01\r\u001b[K     |█████████                       | 583kB 12.2MB/s eta 0:00:01\r\u001b[K     |█████████▏                      | 593kB 12.2MB/s eta 0:00:01\r\u001b[K     |█████████▎                      | 604kB 12.2MB/s eta 0:00:01\r\u001b[K     |█████████▍                      | 614kB 12.2MB/s eta 0:00:01\r\u001b[K     |█████████▋                      | 624kB 12.2MB/s eta 0:00:01\r\u001b[K     |█████████▊                      | 634kB 12.2MB/s eta 0:00:01\r\u001b[K     |██████████                      | 645kB 12.2MB/s eta 0:00:01\r\u001b[K     |██████████                      | 655kB 12.2MB/s eta 0:00:01\r\u001b[K     |██████████▎                     | 665kB 12.2MB/s eta 0:00:01\r\u001b[K     |██████████▍                     | 675kB 12.2MB/s eta 0:00:01\r\u001b[K     |██████████▌                     | 686kB 12.2MB/s eta 0:00:01\r\u001b[K     |██████████▊                     | 696kB 12.2MB/s eta 0:00:01\r\u001b[K     |██████████▉                     | 706kB 12.2MB/s eta 0:00:01\r\u001b[K     |███████████                     | 716kB 12.2MB/s eta 0:00:01\r\u001b[K     |███████████▏                    | 727kB 12.2MB/s eta 0:00:01\r\u001b[K     |███████████▎                    | 737kB 12.2MB/s eta 0:00:01\r\u001b[K     |███████████▌                    | 747kB 12.2MB/s eta 0:00:01\r\u001b[K     |███████████▋                    | 757kB 12.2MB/s eta 0:00:01\r\u001b[K     |███████████▉                    | 768kB 12.2MB/s eta 0:00:01\r\u001b[K     |████████████                    | 778kB 12.2MB/s eta 0:00:01\r\u001b[K     |████████████                    | 788kB 12.2MB/s eta 0:00:01\r\u001b[K     |████████████▎                   | 798kB 12.2MB/s eta 0:00:01\r\u001b[K     |████████████▍                   | 808kB 12.2MB/s eta 0:00:01\r\u001b[K     |████████████▋                   | 819kB 12.2MB/s eta 0:00:01\r\u001b[K     |████████████▊                   | 829kB 12.2MB/s eta 0:00:01\r\u001b[K     |█████████████                   | 839kB 12.2MB/s eta 0:00:01\r\u001b[K     |█████████████                   | 849kB 12.2MB/s eta 0:00:01\r\u001b[K     |█████████████▏                  | 860kB 12.2MB/s eta 0:00:01\r\u001b[K     |█████████████▍                  | 870kB 12.2MB/s eta 0:00:01\r\u001b[K     |█████████████▌                  | 880kB 12.2MB/s eta 0:00:01\r\u001b[K     |█████████████▊                  | 890kB 12.2MB/s eta 0:00:01\r\u001b[K     |█████████████▉                  | 901kB 12.2MB/s eta 0:00:01\r\u001b[K     |██████████████                  | 911kB 12.2MB/s eta 0:00:01\r\u001b[K     |██████████████▏                 | 921kB 12.2MB/s eta 0:00:01\r\u001b[K     |██████████████▎                 | 931kB 12.2MB/s eta 0:00:01\r\u001b[K     |██████████████▌                 | 942kB 12.2MB/s eta 0:00:01\r\u001b[K     |██████████████▋                 | 952kB 12.2MB/s eta 0:00:01\r\u001b[K     |██████████████▉                 | 962kB 12.2MB/s eta 0:00:01\r\u001b[K     |███████████████                 | 972kB 12.2MB/s eta 0:00:01\r\u001b[K     |███████████████                 | 983kB 12.2MB/s eta 0:00:01\r\u001b[K     |███████████████▎                | 993kB 12.2MB/s eta 0:00:01\r\u001b[K     |███████████████▍                | 1.0MB 12.2MB/s eta 0:00:01\r\u001b[K     |███████████████▋                | 1.0MB 12.2MB/s eta 0:00:01\r\u001b[K     |███████████████▊                | 1.0MB 12.2MB/s eta 0:00:01\r\u001b[K     |███████████████▉                | 1.0MB 12.2MB/s eta 0:00:01\r\u001b[K     |████████████████                | 1.0MB 12.2MB/s eta 0:00:01\r\u001b[K     |████████████████▏               | 1.1MB 12.2MB/s eta 0:00:01\r\u001b[K     |████████████████▍               | 1.1MB 12.2MB/s eta 0:00:01\r\u001b[K     |████████████████▌               | 1.1MB 12.2MB/s eta 0:00:01\r\u001b[K     |████████████████▊               | 1.1MB 12.2MB/s eta 0:00:01\r\u001b[K     |████████████████▉               | 1.1MB 12.2MB/s eta 0:00:01\r\u001b[K     |█████████████████               | 1.1MB 12.2MB/s eta 0:00:01\r\u001b[K     |█████████████████▏              | 1.1MB 12.2MB/s eta 0:00:01\r\u001b[K     |█████████████████▎              | 1.1MB 12.2MB/s eta 0:00:01\r\u001b[K     |█████████████████▌              | 1.1MB 12.2MB/s eta 0:00:01\r\u001b[K     |█████████████████▋              | 1.1MB 12.2MB/s eta 0:00:01\r\u001b[K     |█████████████████▊              | 1.2MB 12.2MB/s eta 0:00:01\r\u001b[K     |██████████████████              | 1.2MB 12.2MB/s eta 0:00:01\r\u001b[K     |██████████████████              | 1.2MB 12.2MB/s eta 0:00:01\r\u001b[K     |██████████████████▎             | 1.2MB 12.2MB/s eta 0:00:01\r\u001b[K     |██████████████████▍             | 1.2MB 12.2MB/s eta 0:00:01\r\u001b[K     |██████████████████▋             | 1.2MB 12.2MB/s eta 0:00:01\r\u001b[K     |██████████████████▊             | 1.2MB 12.2MB/s eta 0:00:01\r\u001b[K     |██████████████████▉             | 1.2MB 12.2MB/s eta 0:00:01\r\u001b[K     |███████████████████             | 1.2MB 12.2MB/s eta 0:00:01\r\u001b[K     |███████████████████▏            | 1.2MB 12.2MB/s eta 0:00:01\r\u001b[K     |███████████████████▍            | 1.3MB 12.2MB/s eta 0:00:01\r\u001b[K     |███████████████████▌            | 1.3MB 12.2MB/s eta 0:00:01\r\u001b[K     |███████████████████▋            | 1.3MB 12.2MB/s eta 0:00:01\r\u001b[K     |███████████████████▉            | 1.3MB 12.2MB/s eta 0:00:01\r\u001b[K     |████████████████████            | 1.3MB 12.2MB/s eta 0:00:01\r\u001b[K     |████████████████████▏           | 1.3MB 12.2MB/s eta 0:00:01\r\u001b[K     |████████████████████▎           | 1.3MB 12.2MB/s eta 0:00:01\r\u001b[K     |████████████████████▌           | 1.3MB 12.2MB/s eta 0:00:01\r\u001b[K     |████████████████████▋           | 1.3MB 12.2MB/s eta 0:00:01\r\u001b[K     |████████████████████▊           | 1.4MB 12.2MB/s eta 0:00:01\r\u001b[K     |█████████████████████           | 1.4MB 12.2MB/s eta 0:00:01\r\u001b[K     |█████████████████████           | 1.4MB 12.2MB/s eta 0:00:01\r\u001b[K     |█████████████████████▎          | 1.4MB 12.2MB/s eta 0:00:01\r\u001b[K     |█████████████████████▍          | 1.4MB 12.2MB/s eta 0:00:01\r\u001b[K     |█████████████████████▌          | 1.4MB 12.2MB/s eta 0:00:01\r\u001b[K     |█████████████████████▊          | 1.4MB 12.2MB/s eta 0:00:01\r\u001b[K     |█████████████████████▉          | 1.4MB 12.2MB/s eta 0:00:01\r\u001b[K     |██████████████████████          | 1.4MB 12.2MB/s eta 0:00:01\r\u001b[K     |██████████████████████▏         | 1.4MB 12.2MB/s eta 0:00:01\r\u001b[K     |██████████████████████▍         | 1.5MB 12.2MB/s eta 0:00:01\r\u001b[K     |██████████████████████▌         | 1.5MB 12.2MB/s eta 0:00:01\r\u001b[K     |██████████████████████▋         | 1.5MB 12.2MB/s eta 0:00:01\r\u001b[K     |██████████████████████▉         | 1.5MB 12.2MB/s eta 0:00:01\r\u001b[K     |███████████████████████         | 1.5MB 12.2MB/s eta 0:00:01\r\u001b[K     |███████████████████████▏        | 1.5MB 12.2MB/s eta 0:00:01\r\u001b[K     |███████████████████████▎        | 1.5MB 12.2MB/s eta 0:00:01\r\u001b[K     |███████████████████████▍        | 1.5MB 12.2MB/s eta 0:00:01\r\u001b[K     |███████████████████████▋        | 1.5MB 12.2MB/s eta 0:00:01\r\u001b[K     |███████████████████████▊        | 1.5MB 12.2MB/s eta 0:00:01\r\u001b[K     |████████████████████████        | 1.6MB 12.2MB/s eta 0:00:01\r\u001b[K     |████████████████████████        | 1.6MB 12.2MB/s eta 0:00:01\r\u001b[K     |████████████████████████▏       | 1.6MB 12.2MB/s eta 0:00:01\r\u001b[K     |████████████████████████▍       | 1.6MB 12.2MB/s eta 0:00:01\r\u001b[K     |████████████████████████▌       | 1.6MB 12.2MB/s eta 0:00:01\r\u001b[K     |████████████████████████▊       | 1.6MB 12.2MB/s eta 0:00:01\r\u001b[K     |████████████████████████▉       | 1.6MB 12.2MB/s eta 0:00:01\r\u001b[K     |█████████████████████████       | 1.6MB 12.2MB/s eta 0:00:01\r\u001b[K     |█████████████████████████▏      | 1.6MB 12.2MB/s eta 0:00:01\r\u001b[K     |█████████████████████████▎      | 1.6MB 12.2MB/s eta 0:00:01\r\u001b[K     |█████████████████████████▌      | 1.7MB 12.2MB/s eta 0:00:01\r\u001b[K     |█████████████████████████▋      | 1.7MB 12.2MB/s eta 0:00:01\r\u001b[K     |█████████████████████████▉      | 1.7MB 12.2MB/s eta 0:00:01\r\u001b[K     |██████████████████████████      | 1.7MB 12.2MB/s eta 0:00:01\r\u001b[K     |██████████████████████████      | 1.7MB 12.2MB/s eta 0:00:01\r\u001b[K     |██████████████████████████▎     | 1.7MB 12.2MB/s eta 0:00:01\r\u001b[K     |██████████████████████████▍     | 1.7MB 12.2MB/s eta 0:00:01\r\u001b[K     |██████████████████████████▋     | 1.7MB 12.2MB/s eta 0:00:01\r\u001b[K     |██████████████████████████▊     | 1.7MB 12.2MB/s eta 0:00:01\r\u001b[K     |███████████████████████████     | 1.8MB 12.2MB/s eta 0:00:01\r\u001b[K     |███████████████████████████     | 1.8MB 12.2MB/s eta 0:00:01\r\u001b[K     |███████████████████████████▏    | 1.8MB 12.2MB/s eta 0:00:01\r\u001b[K     |███████████████████████████▍    | 1.8MB 12.2MB/s eta 0:00:01\r\u001b[K     |███████████████████████████▌    | 1.8MB 12.2MB/s eta 0:00:01\r\u001b[K     |███████████████████████████▊    | 1.8MB 12.2MB/s eta 0:00:01\r\u001b[K     |███████████████████████████▉    | 1.8MB 12.2MB/s eta 0:00:01\r\u001b[K     |████████████████████████████    | 1.8MB 12.2MB/s eta 0:00:01\r\u001b[K     |████████████████████████████▏   | 1.8MB 12.2MB/s eta 0:00:01\r\u001b[K     |████████████████████████████▎   | 1.8MB 12.2MB/s eta 0:00:01\r\u001b[K     |████████████████████████████▌   | 1.9MB 12.2MB/s eta 0:00:01\r\u001b[K     |████████████████████████████▋   | 1.9MB 12.2MB/s eta 0:00:01\r\u001b[K     |████████████████████████████▉   | 1.9MB 12.2MB/s eta 0:00:01\r\u001b[K     |█████████████████████████████   | 1.9MB 12.2MB/s eta 0:00:01\r\u001b[K     |█████████████████████████████   | 1.9MB 12.2MB/s eta 0:00:01\r\u001b[K     |█████████████████████████████▎  | 1.9MB 12.2MB/s eta 0:00:01\r\u001b[K     |█████████████████████████████▍  | 1.9MB 12.2MB/s eta 0:00:01\r\u001b[K     |█████████████████████████████▋  | 1.9MB 12.2MB/s eta 0:00:01\r\u001b[K     |█████████████████████████████▊  | 1.9MB 12.2MB/s eta 0:00:01\r\u001b[K     |█████████████████████████████▉  | 1.9MB 12.2MB/s eta 0:00:01\r\u001b[K     |██████████████████████████████  | 2.0MB 12.2MB/s eta 0:00:01\r\u001b[K     |██████████████████████████████▏ | 2.0MB 12.2MB/s eta 0:00:01\r\u001b[K     |██████████████████████████████▍ | 2.0MB 12.2MB/s eta 0:00:01\r\u001b[K     |██████████████████████████████▌ | 2.0MB 12.2MB/s eta 0:00:01\r\u001b[K     |██████████████████████████████▊ | 2.0MB 12.2MB/s eta 0:00:01\r\u001b[K     |██████████████████████████████▉ | 2.0MB 12.2MB/s eta 0:00:01\r\u001b[K     |███████████████████████████████ | 2.0MB 12.2MB/s eta 0:00:01\r\u001b[K     |███████████████████████████████▏| 2.0MB 12.2MB/s eta 0:00:01\r\u001b[K     |███████████████████████████████▎| 2.0MB 12.2MB/s eta 0:00:01\r\u001b[K     |███████████████████████████████▌| 2.0MB 12.2MB/s eta 0:00:01\r\u001b[K     |███████████████████████████████▋| 2.1MB 12.2MB/s eta 0:00:01\r\u001b[K     |███████████████████████████████▊| 2.1MB 12.2MB/s eta 0:00:01\r\u001b[K     |████████████████████████████████| 2.1MB 12.2MB/s eta 0:00:01\r\u001b[K     |████████████████████████████████| 2.1MB 12.2MB/s \n",
            "\u001b[?25hRequirement already satisfied: numpy in /usr/local/lib/python3.6/dist-packages (from mitdeeplearning) (1.18.5)\n",
            "Requirement already satisfied: regex in /usr/local/lib/python3.6/dist-packages (from mitdeeplearning) (2019.12.20)\n",
            "Requirement already satisfied: tqdm in /usr/local/lib/python3.6/dist-packages (from mitdeeplearning) (4.41.1)\n",
            "Requirement already satisfied: gym in /usr/local/lib/python3.6/dist-packages (from mitdeeplearning) (0.17.2)\n",
            "Requirement already satisfied: cloudpickle<1.4.0,>=1.2.0 in /usr/local/lib/python3.6/dist-packages (from gym->mitdeeplearning) (1.3.0)\n",
            "Requirement already satisfied: pyglet<=1.5.0,>=1.4.0 in /usr/local/lib/python3.6/dist-packages (from gym->mitdeeplearning) (1.5.0)\n",
            "Requirement already satisfied: scipy in /usr/local/lib/python3.6/dist-packages (from gym->mitdeeplearning) (1.4.1)\n",
            "Requirement already satisfied: future in /usr/local/lib/python3.6/dist-packages (from pyglet<=1.5.0,>=1.4.0->gym->mitdeeplearning) (0.16.0)\n",
            "Building wheels for collected packages: mitdeeplearning\n",
            "  Building wheel for mitdeeplearning (setup.py) ... \u001b[?25l\u001b[?25hdone\n",
            "  Created wheel for mitdeeplearning: filename=mitdeeplearning-0.1.2-cp36-none-any.whl size=2114586 sha256=0796ce802631ec89c2672f6fd9adf4c32daf223e622a3de464933567ae571420\n",
            "  Stored in directory: /root/.cache/pip/wheels/27/e1/73/5f01c787621d8a3c857f59876c79e304b9b64db9ff5bd61b74\n",
            "Successfully built mitdeeplearning\n",
            "Installing collected packages: mitdeeplearning\n",
            "Successfully installed mitdeeplearning-0.1.2\n"
          ],
          "name": "stdout"
        }
      ]
    },
    {
      "cell_type": "markdown",
      "metadata": {
        "id": "zmrHSiXKTXTY",
        "colab_type": "text"
      },
      "source": [
        "Before we dive in, let's take a step back and outline our approach, which is generally applicable to reinforcement learning problems in general:\n",
        "\n",
        "1. **Initialize our environment and our agent**: here we will describe the different observations and actions the agent can make in the environemnt.\n",
        "2. **Define our agent's memory**: this will enable the agent to remember its past actions, observations, and rewards.\n",
        "3. **Define a reward function**: describes the reward associated with an action or sequence of actions.\n",
        "4. **Define the learning algorithm**: this will be used to reinforce the agent's good behaviors and discourage bad behaviors.\n"
      ]
    },
    {
      "cell_type": "markdown",
      "metadata": {
        "id": "UT7YL8KBJIIc",
        "colab_type": "text"
      },
      "source": [
        "# Part 1: Cartpole\n",
        "\n",
        "## 3.1 Define the Cartpole environment and agent\n",
        "\n",
        "### Environment \n",
        "\n",
        "In order to model the environment for both the Cartpole and Pong tasks, we'll be using a toolkit developed by OpenAI called [OpenAI Gym](https://gym.openai.com/). It provides several pre-defined environments for training and testing reinforcement learning agents, including those for classic physics control tasks, Atari video games, and robotic simulations. To access the Cartpole environment, we can use `env = gym.make(\"CartPole-v0\")`, which we gained access to when we imported the `gym` package. We can instantiate different [environments](https://gym.openai.com/envs/#classic_control) by passing the enivronment name to the `make` function.\n",
        "\n",
        "One issue we might experience when developing RL algorithms is that many aspects of the learning process are inherently random: initializing game states, changes in the environment, and the agent's actions. As such, it can be helpful to set a initial \"seed\" for the environment to ensure some level of reproducibility. Much like you might use `numpy.random.seed`, we can call the comparable function in gym, `seed`, with our defined environment to ensure the environment's random variables are initialized the same each time."
      ]
    },
    {
      "cell_type": "code",
      "metadata": {
        "id": "quv9SC0iIYFm",
        "colab_type": "code",
        "outputId": "e95a7594-536f-4f82-ac25-5ebe98148073",
        "colab": {
          "base_uri": "https://localhost:8080/",
          "height": 34
        }
      },
      "source": [
        "### Instantiate the Cartpole environment ###\n",
        "\n",
        "env = gym.make(\"CartPole-v0\")\n",
        "env.seed(1)"
      ],
      "execution_count": 3,
      "outputs": [
        {
          "output_type": "execute_result",
          "data": {
            "text/plain": [
              "[1]"
            ]
          },
          "metadata": {
            "tags": []
          },
          "execution_count": 3
        }
      ]
    },
    {
      "cell_type": "markdown",
      "metadata": {
        "id": "mhEITUcKK455",
        "colab_type": "text"
      },
      "source": [
        "In Cartpole, a pole is attached by an un-actuated joint to a cart, which moves along a frictionless track. The pole starts upright, and the goal is to prevent it from falling over. The system is controlled by applying a force of +1 or -1 to the cart. A reward of +1 is provided for every timestep that the pole remains upright. The episode ends when the pole is more than 15 degrees from vertical, or the cart moves more than 2.4 units from the center of the track. A visual summary of the cartpole environment is depicted below:\n",
        "\n",
        "<img width=\"400px\" src=\"https://danielpiedrahita.files.wordpress.com/2017/02/cart-pole.png\"></img>\n",
        "\n",
        "Given this setup for the environment and the objective of the game, we can think about: 1) what observations help define the environment's state; 2) what actions the agent can take. \n",
        "\n",
        "First, let's consider the observation space. In this Cartpole environment our observations are:\n",
        "\n",
        "1. Cart position\n",
        "2. Cart velocity\n",
        "3. Pole angle\n",
        "4. Pole rotation rate\n",
        "\n",
        "We can confirm the size of the space by querying the environment's observation space:\n"
      ]
    },
    {
      "cell_type": "code",
      "metadata": {
        "id": "UVJaEcbdIX82",
        "colab_type": "code",
        "outputId": "1f5e4074-953c-48f9-b579-70f84209d44f",
        "colab": {
          "base_uri": "https://localhost:8080/",
          "height": 34
        }
      },
      "source": [
        "n_observations = env.observation_space\n",
        "print(\"Environment has observation space =\", n_observations)"
      ],
      "execution_count": 4,
      "outputs": [
        {
          "output_type": "stream",
          "text": [
            "Environment has observation space = Box(4,)\n"
          ],
          "name": "stdout"
        }
      ]
    },
    {
      "cell_type": "markdown",
      "metadata": {
        "id": "ZibGgjrALgPM",
        "colab_type": "text"
      },
      "source": [
        "Second, we consider the action space. At every time step, the agent can move either right or left. Again we can confirm the size of the action space by querying the environment:"
      ]
    },
    {
      "cell_type": "code",
      "metadata": {
        "id": "qc9SIPxBIXrm",
        "colab_type": "code",
        "outputId": "afb7a4d6-8ccd-4902-fcb9-2081615accb1",
        "colab": {
          "base_uri": "https://localhost:8080/",
          "height": 34
        }
      },
      "source": [
        "n_actions = env.action_space.n\n",
        "print(\"Number of possible actions that the agent can choose from =\", n_actions)"
      ],
      "execution_count": 5,
      "outputs": [
        {
          "output_type": "stream",
          "text": [
            "Number of possible actions that the agent can choose from = 2\n"
          ],
          "name": "stdout"
        }
      ]
    },
    {
      "cell_type": "markdown",
      "metadata": {
        "id": "pPfHME8aRKkb",
        "colab_type": "text"
      },
      "source": [
        "### Cartpole agent\n",
        "\n",
        "Now that we have instantiated the environment and understood the dimensionality of the observation and action spaces, we are ready to define our agent. In deep reinforcement learning, a deep neural network defines the agent. This network will take as input an observation of the environment and output the probability of taking each of the possible actions. Since Cartpole is defined by a low-dimensional observation space, a simple feed-forward neural network should work well for our agent. We will define this using the `Sequential` API.\n"
      ]
    },
    {
      "cell_type": "code",
      "metadata": {
        "id": "W-o_XK4oQ4eu",
        "colab_type": "code",
        "colab": {}
      },
      "source": [
        "### Define the Cartpole agent ###\n",
        "\n",
        "# Defines a feed-forward neural network\n",
        "def create_cartpole_model():\n",
        "  model = tf.keras.models.Sequential([\n",
        "      # First Dense layer\n",
        "      tf.keras.layers.Dense(units=32, activation='relu'),\n",
        "\n",
        "      # TODO: Define the last Dense layer, which will provide the network's output.\n",
        "      # Think about the space the agent needs to act in!\n",
        "      # '''TODO: Dense layer to output action probabilities'''\n",
        "      tf.keras.layers.Dense(units = n_actions)\n",
        "  ])\n",
        "  return model\n",
        "\n",
        "cartpole_model = create_cartpole_model()"
      ],
      "execution_count": 0,
      "outputs": []
    },
    {
      "cell_type": "markdown",
      "metadata": {
        "id": "d5D5NSIYS2IW",
        "colab_type": "text"
      },
      "source": [
        "Now that we have defined the core network architecture, we will define an *action function* that executes a forward pass through the network, given a set of observations, and samples from the output. This sampling from the output probabilities will be used to select the next action for the agent. \n",
        "\n",
        "**Critically, this action function is totally general -- we will use this function for both Cartpole and Pong, and it is applicable to other RL tasks, as well!**"
      ]
    },
    {
      "cell_type": "code",
      "metadata": {
        "id": "E_vVZRr8Q4R_",
        "colab_type": "code",
        "colab": {}
      },
      "source": [
        "### Define the agent's action function ###\n",
        "\n",
        "# Function that takes observations as input, executes a forward pass through model, \n",
        "#   and outputs a sampled action.\n",
        "# Arguments:\n",
        "#   model: the network that defines our agent\n",
        "#   observation: observation which is fed as input to the model\n",
        "# Returns:\n",
        "#   action: choice of agent action\n",
        "def choose_action(model, observation):\n",
        "  # add batch dimension to the observation\n",
        "  observation = np.expand_dims(observation, axis=0)\n",
        "\n",
        "  '''TODO: feed the observations through the model to predict the log probabilities of each possible action.'''\n",
        "  logits = model.predict(observation)\n",
        "  probability = tf.nn.softmax(logits).numpy()\n",
        "  '''TODO: randomly sample from the prob_weights to pick an action.\n",
        "  Hint: carefully consider the dimensionality of the input probabilities (vector) and the output action (scalar)'''\n",
        "  action = np.random.choice(n_actions, size=1, p=probability.flatten())[0]\n",
        "\n",
        "  return action"
      ],
      "execution_count": 0,
      "outputs": []
    },
    {
      "cell_type": "markdown",
      "metadata": {
        "id": "_tR9uAWcTnkr",
        "colab_type": "text"
      },
      "source": [
        "## 3.2 Define the agent's memory\n",
        "\n",
        "Now that we have instantiated the environment and defined the agent network architecture and action function, we are ready to move on to the next step in our RL workflow:\n",
        "1. **Initialize our environment and our agent**: here we will describe the different observations and actions the agent can make in the environemnt.\n",
        "2. **Define our agent's memory**: this will enable the agent to remember its past actions, observations, and rewards.\n",
        "3. **Define the learning algorithm**: this will be used to reinforce the agent's good behaviors and discourage bad behaviors.\n",
        "\n",
        "In reinforcement learning, training occurs alongside the agent's acting in the environment; an *episode* refers to a sequence of actions that ends in some terminal state, such as the pole falling down or the cart crashing. The agent will need to remember all of its observations and actions, such that once an episode ends, it can learn to \"reinforce\" the good actions and punish the undesirable actions via training. Our first step is to define a simple memory buffer that contains the agent's observations, actions, and received rewards from a given episode. \n",
        "\n",
        "**Once again, note the modularity of this memory buffer -- it can and will be applied to other RL tasks as well!**"
      ]
    },
    {
      "cell_type": "code",
      "metadata": {
        "id": "8MM6JwXVQ4JG",
        "colab_type": "code",
        "colab": {}
      },
      "source": [
        "### Agent Memory ###\n",
        "\n",
        "class Memory:\n",
        "  def __init__(self): \n",
        "      self.clear()\n",
        "\n",
        "  # Resets/restarts the memory buffer\n",
        "  def clear(self): \n",
        "      self.observations = []\n",
        "      self.actions = []\n",
        "      self.rewards = []\n",
        "\n",
        "  # Add observations, actions, rewards to memory\n",
        "  def add_to_memory(self, new_observation, new_action, new_reward): \n",
        "      self.observations.append(new_observation)\n",
        "      self.actions.append(new_action)\n",
        "      # TODO: your update code here\n",
        "      self.rewards.append(new_reward)\n",
        "      # TODO: your update code here\n",
        "        \n",
        "memory = Memory()"
      ],
      "execution_count": 0,
      "outputs": []
    },
    {
      "cell_type": "markdown",
      "metadata": {
        "id": "D4YhtPaUVj5m",
        "colab_type": "text"
      },
      "source": [
        "## 3.3 Reward function\n",
        "\n",
        "We're almost ready to begin the learning algorithm for our agent! The next step is to compute the rewards of our agent as it acts in the environment. Since we (and the agent) is uncertain about if and when the game or task will end (i.e., when the pole will fall), it is useful to emphasize getting rewards **now** rather than later in the future -- this is the idea of discounting. This is a similar concept to discounting money in the case of interest. ecall from lecture, we use reward discount to give more preference at getting rewards now rather than later in the future. The idea of discounting rewards is similar to discounting money in the case of interest.\n",
        "\n",
        "To compute the expected cumulative reward, known as the **return**, at a given timestep in a learning episode, we sum the discounted rewards expected at that time step $t$, within a learning episode, and projecting into the future. We define the return (cumulative reward) at a time step $t$, $R_{t}$ as:\n",
        "\n",
        ">$R_{t}=\\sum_{k=0}^\\infty\\gamma^kr_{t+k}$\n",
        "\n",
        "where  $0 < \\gamma < 1$ is the discount factor and $r_{t}$ is the reward at time step $t$, and the index $k$ increments projection into the future within a single learning episode. Intuitively, you can think of this function as depreciating any rewards received at later time steps, which will force the agent prioritize getting rewards now. Since we can't extend episodes to infinity, in practice the computation will be limited to the number of timesteps in an episode -- after that the reward is assumed to be zero.\n",
        "\n",
        "Take note of the form of this sum -- we'll have to be clever about how we implement this function. Specifically, we'll need to initialize an array of zeros, with length of the number of time steps, and fill it with the real discounted reward values as we loop through the rewards from the episode, which will have been saved in the agents memory. What we ultimately care about is which actions are better relative to other actions taken in that episode -- so, we'll normalize our computed rewards, using the mean and standard deviation of the rewards across the learning episode.\n"
      ]
    },
    {
      "cell_type": "code",
      "metadata": {
        "id": "5_Q2OFYtQ32X",
        "colab_type": "code",
        "colab": {}
      },
      "source": [
        "### Reward function ###\n",
        "\n",
        "# Helper function that normalizes an np.array x\n",
        "def normalize(x):\n",
        "  x -= np.mean(x)\n",
        "  x /= np.std(x)\n",
        "  return x.astype(np.float32)\n",
        "\n",
        "# Compute normalized, discounted, cumulative rewards (i.e., return)\n",
        "# Arguments:\n",
        "#   rewards: reward at timesteps in episode\n",
        "#   gamma: discounting factor\n",
        "# Returns:\n",
        "#   normalized discounted reward\n",
        "def discount_rewards(rewards, gamma=0.95): \n",
        "  discounted_rewards = np.zeros_like(rewards)\n",
        "  R = 0\n",
        "  for t in reversed(range(0, len(rewards))):\n",
        "      # update the total discounted reward\n",
        "      R = R * gamma + rewards[t]\n",
        "      discounted_rewards[t] = R\n",
        "      \n",
        "  return normalize(discounted_rewards)"
      ],
      "execution_count": 0,
      "outputs": []
    },
    {
      "cell_type": "markdown",
      "metadata": {
        "id": "QzbY-mjGYcmt",
        "colab_type": "text"
      },
      "source": [
        "## 3.4 Learning algorithm\n",
        "\n",
        "Now we can start to define the learing algorithm which will be used to reinforce good behaviors of the agent and discourage bad behaviours. In this lab, we will focus on *policy gradient* methods which aim to **maximize** the likelihood of actions that result in large rewards. Equivalently, this means that we want to **minimize** the negative likelihood of these same actions. We achieve this by simply **scaling** the probabilities by their associated rewards -- effectively amplifying the likelihood of actions that result in large rewards.\n",
        "\n",
        "Since the log function is monotonically increasing, this means that minimizing **negative likelihood** is equivalent to minimizing **negative log-likelihood**.  Recall that we can easily compute the negative log-likelihood of a discrete action by evaluting its [softmax cross entropy](https://www.tensorflow.org/api_docs/python/tf/nn/sparse_softmax_cross_entropy_with_logits). Like in supervised learning, we can use stochastic gradient descent methods to achieve the desired minimization. \n",
        "\n",
        "Let's begin by defining the loss function."
      ]
    },
    {
      "cell_type": "code",
      "metadata": {
        "id": "fsgZ3IDCY_Zn",
        "colab_type": "code",
        "colab": {}
      },
      "source": [
        "### Loss function ###\n",
        "\n",
        "# Arguments:\n",
        "#   logits: network's predictions for actions to take\n",
        "#   actions: the actions the agent took in an episode\n",
        "#   rewards: the rewards the agent received in an episode\n",
        "# Returns:\n",
        "#   loss\n",
        "def compute_loss(logits, actions, rewards): \n",
        "  '''TODO: complete the function call to compute the negative log probabilities'''\n",
        "  neg_logprob = tf.nn.sparse_softmax_cross_entropy_with_logits(logits=logits, labels=actions)\n",
        "  \n",
        "  '''TODO: scale the negative log probability by the rewards'''\n",
        "  loss = tf.reduce_mean(neg_logprob*rewards)\n",
        "  return loss"
      ],
      "execution_count": 0,
      "outputs": []
    },
    {
      "cell_type": "markdown",
      "metadata": {
        "id": "Rr5vQ9fqbPpp",
        "colab_type": "text"
      },
      "source": [
        "Now let's use the loss function to define a training step of our learning algorithm:"
      ]
    },
    {
      "cell_type": "code",
      "metadata": {
        "id": "_50ada7nbZ7L",
        "colab_type": "code",
        "colab": {}
      },
      "source": [
        "### Training step (forward and backpropagation) ###\n",
        "\n",
        "def train_step(model, optimizer, observations, actions, discounted_rewards):\n",
        "  with tf.GradientTape() as tape:\n",
        "      # Forward propagate through the agent network\n",
        "      logits = model(observations)\n",
        "\n",
        "      '''TODO: call the compute_loss function to compute the loss'''\n",
        "      loss = compute_loss(logits, actions, discounted_rewards)\n",
        "\n",
        "  '''TODO: run backpropagation to minimize the loss using the tape.gradient method.\n",
        "      Use `model.trainable_variables`'''\n",
        "  grads = tape.gradient(loss, model.trainable_variables)\n",
        "  optimizer.apply_gradients(zip(grads, model.trainable_variables))\n"
      ],
      "execution_count": 0,
      "outputs": []
    },
    {
      "cell_type": "markdown",
      "metadata": {
        "id": "XsjKXh6BcgjR",
        "colab_type": "text"
      },
      "source": [
        "## 3.5 Run cartpole!\n",
        "\n",
        "Having had no prior knowledge of the environment, the agent will begin to learn how to balance the pole on the cart based only on the feedback received from the environment! Having defined how our agent can move, how it takes in new observations, and how it updates its state, we'll see how it gradually learns a policy of actions to optimize balancing the pole as long as possible. To do this, we'll track how the rewards evolve as a function of training -- how should the rewards change as training progresses?"
      ]
    },
    {
      "cell_type": "code",
      "metadata": {
        "id": "XmOzc2rrcn8Q",
        "colab_type": "code",
        "outputId": "37df0717-ca18-412f-e92c-909a658b79d9",
        "colab": {
          "base_uri": "https://localhost:8080/",
          "height": 541
        }
      },
      "source": [
        "### Cartpole training! ###\n",
        "\n",
        "# Learning rate and optimizer\n",
        "learning_rate = 1e-3\n",
        "optimizer = tf.keras.optimizers.Adam(learning_rate)\n",
        "\n",
        "# instantiate cartpole agent\n",
        "cartpole_model = create_cartpole_model()\n",
        "\n",
        "# to track our progress\n",
        "smoothed_reward = mdl.util.LossHistory(smoothing_factor=0.9)\n",
        "plotter = mdl.util.PeriodicPlotter(sec=2, xlabel='Iterations', ylabel='Rewards')\n",
        "\n",
        "if hasattr(tqdm, '_instances'): tqdm._instances.clear() # clear if it exists\n",
        "for i_episode in range(500):\n",
        "\n",
        "  plotter.plot(smoothed_reward.get())\n",
        "\n",
        "  # Restart the environment\n",
        "  observation = env.reset()\n",
        "  memory.clear()\n",
        "\n",
        "  while True:\n",
        "      # using our observation, choose an action and take it in the environment\n",
        "      action = choose_action(cartpole_model, observation)\n",
        "      next_observation, reward, done, info = env.step(action)\n",
        "      # add to memory\n",
        "      memory.add_to_memory(observation, action, reward)\n",
        "      \n",
        "      # is the episode over? did you crash or do so well that you're done?\n",
        "      if done:\n",
        "          # determine total reward and keep a record of this\n",
        "          total_reward = sum(memory.rewards)\n",
        "          smoothed_reward.append(total_reward)\n",
        "          \n",
        "          # initiate training - remember we don't know anything about how the \n",
        "          #   agent is doing until it has crashed!\n",
        "          train_step(cartpole_model, optimizer, \n",
        "                     observations=np.vstack(memory.observations),\n",
        "                     actions=np.array(memory.actions),\n",
        "                     discounted_rewards = discount_rewards(memory.rewards))\n",
        "          \n",
        "          # reset the memory\n",
        "          memory.clear()\n",
        "          break\n",
        "      # update our observatons\n",
        "      observation = next_observation"
      ],
      "execution_count": 0,
      "outputs": [
        {
          "output_type": "display_data",
          "data": {
            "image/png": "[encoded data removed]",
            "text/plain": [
              "<Figure size 432x288 with 1 Axes>"
            ]
          },
          "metadata": {
            "tags": []
          }
        },
        {
          "output_type": "display_data",
          "data": {
            "image/png": "[encoded data removed]",
            "text/plain": [
              "<Figure size 432x288 with 1 Axes>"
            ]
          },
          "metadata": {
            "tags": [],
            "needs_background": "light"
          }
        }
      ]
    },
    {
      "cell_type": "code",
      "metadata": {
        "id": "6rMd3C9SZU5p",
        "colab_type": "code",
        "colab": {}
      },
      "source": [
        "cartpole_model.save_weights('drive/My Drive/Colab Notebooks/cartpole_model.h5')"
      ],
      "execution_count": 0,
      "outputs": []
    },
    {
      "cell_type": "markdown",
      "metadata": {
        "id": "mkcUtGF1VE-K",
        "colab_type": "text"
      },
      "source": [
        "To get a sense of how our agent did, we can save a video of the trained model working on balancing the pole. Realize that this is a brand new environment that the agent has not seen before!\n",
        "\n",
        "Let's display the saved video to watch how our agent did!\n"
      ]
    },
    {
      "cell_type": "code",
      "metadata": {
        "id": "PAYBkv6Zbk0J",
        "colab_type": "code",
        "outputId": "df6dbb44-211a-420c-83e6-9ece36996776",
        "colab": {
          "base_uri": "https://localhost:8080/",
          "height": 365
        }
      },
      "source": [
        "saved_cartpole = mdl.lab3.save_video_of_model(cartpole_model, \"CartPole-v0\")\n",
        "mdl.lab3.play_video(saved_cartpole)"
      ],
      "execution_count": 0,
      "outputs": [
        {
          "output_type": "stream",
          "text": [
            "WARNING:tensorflow:Layer dense is casting an input tensor from dtype float64 to the layer's dtype of float32, which is new behavior in TensorFlow 2.  The layer has dtype float32 because it's dtype defaults to floatx.\n",
            "\n",
            "If you intended to run this layer in float32, you can safely ignore this warning. If in doubt, this warning is likely only an issue if you are porting a TensorFlow 1.X model to TensorFlow 2.\n",
            "\n",
            "To change all layers to have dtype float64 by default, call `tf.keras.backend.set_floatx('float64')`. To change just this layer, pass dtype='float64' to the layer constructor. If you are the author of this layer, you can disable autocasting by passing autocast=False to the base Layer constructor.\n",
            "\n",
            "Successfully saved 200 frames into CartPole-v0.mp4!\n"
          ],
          "name": "stdout"
        },
        {
          "output_type": "execute_result",
          "data": {
            "text/html": [
              "\n",
              "        <video controls>\n",
              "            <source src=\"data:video/mp4;base64,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\" type=\"video/mp4\" />\n",
              "        </video>"
            ],
            "text/plain": [
              "<IPython.core.display.HTML object>"
            ]
          },
          "metadata": {
            "tags": []
          },
          "execution_count": 12
        }
      ]
    },
    {
      "cell_type": "markdown",
      "metadata": {
        "id": "CSbVNDpaVb3_",
        "colab_type": "text"
      },
      "source": [
        "How does the agent perform? Could you train it for shorter amounts of time and still perform well? Do you think that training longer would help even more? "
      ]
    },
    {
      "cell_type": "markdown",
      "metadata": {
        "id": "Eu6Mqxc720ST",
        "colab_type": "text"
      },
      "source": [
        "#Part 2: Pong\n",
        "\n",
        "In Cartpole, we dealt with an environment that was static -- in other words, it didn't change over time. What happens if our environment is dynamic and unpredictable? Well that's exactly the case in [Pong](https://en.wikipedia.org/wiki/Pong), since part of the environment is the opposing player. We don't know how our opponent will act or react to our actions, so the complexity of our problem increases. It also becomes much more interesting, since we can compete to beat our opponent. RL provides a powerful framework for training AI systems with the ability to handle and interact with dynamic, unpredictable environments. In this part of the lab, we'll use the tools and workflow we explored in Part 1 to build an RL agent capable of playing the game of Pong.\n"
      ]
    },
    {
      "cell_type": "markdown",
      "metadata": {
        "id": "srZ4YE29isuA",
        "colab_type": "text"
      },
      "source": [
        "## 3.6 Define and inspect the Pong environment\n",
        "\n",
        "As with Cartpole, we'll instantiate the Pong environment in the OpenAI gym, using a seed of 1."
      ]
    },
    {
      "cell_type": "code",
      "metadata": {
        "id": "lbYHLr66i15n",
        "colab_type": "code",
        "colab": {}
      },
      "source": [
        "env = gym.make(\"Pong-v0\", frameskip=5)\n",
        "env.seed(1); # for reproducibility"
      ],
      "execution_count": 0,
      "outputs": []
    },
    {
      "cell_type": "markdown",
      "metadata": {
        "id": "52uZ2Xhyi-MW",
        "colab_type": "text"
      },
      "source": [
        "Let's next consider the observation space for the Pong environment. Instead of four physical descriptors of the cart-pole setup, in the case of Pong our observations are the individual video frames (i.e., images) that depict the state of the board. Thus, the observations are 210x160 RGB images (arrays of shape (210,160,3)).\n",
        "\n",
        "We can again confirm the size of the observation space by query:"
      ]
    },
    {
      "cell_type": "code",
      "metadata": {
        "id": "0yX4GWvxjnHS",
        "colab_type": "code",
        "outputId": "39100581-c85a-46bf-f787-825d00f2fb5e",
        "colab": {
          "base_uri": "https://localhost:8080/",
          "height": 34
        }
      },
      "source": [
        "print(\"Environment has observation space =\", env.observation_space)"
      ],
      "execution_count": 13,
      "outputs": [
        {
          "output_type": "stream",
          "text": [
            "Environment has observation space = Box(210, 160, 3)\n"
          ],
          "name": "stdout"
        }
      ]
    },
    {
      "cell_type": "markdown",
      "metadata": {
        "id": "uuEC2TdSjx9D",
        "colab_type": "text"
      },
      "source": [
        "In Pong, at every time step, the agent (which controls the paddle) has six actions to choose from: no-op (no operation), move right, move left, fire, fire right, and fire left. Let's confirm the size of the action space by querying the environment:"
      ]
    },
    {
      "cell_type": "code",
      "metadata": {
        "id": "Iuy9oPc1kag3",
        "colab_type": "code",
        "outputId": "6ea37026-dd7c-4b8c-b3f6-b0ad1ed8d5d2",
        "colab": {
          "base_uri": "https://localhost:8080/",
          "height": 34
        }
      },
      "source": [
        "n_actions = env.action_space.n\n",
        "print(\"Number of possible actions that the agent can choose from =\", n_actions)"
      ],
      "execution_count": 14,
      "outputs": [
        {
          "output_type": "stream",
          "text": [
            "Number of possible actions that the agent can choose from = 6\n"
          ],
          "name": "stdout"
        }
      ]
    },
    {
      "cell_type": "markdown",
      "metadata": {
        "id": "9-fghDRigUE5",
        "colab_type": "text"
      },
      "source": [
        "## 3.7 Define the Pong agent\n",
        "\n",
        "As before, we'll use a neural network to define our agent. What network architecture do you think would be especially well suited to this game? Since our observations are now in the form of images, we'll add convolutional layers to the network to increase the learning capacity of our network."
      ]
    },
    {
      "cell_type": "code",
      "metadata": {
        "id": "slvIVzlP8i_9",
        "colab_type": "code",
        "colab": {}
      },
      "source": [
        "def Conv2D(*args, padding = 'same', activation = 'relu', **kwargs):\n",
        "  return tf.keras.layers.Conv2D(*args, padding = padding, activation = activation, **kwargs)"
      ],
      "execution_count": 0,
      "outputs": []
    },
    {
      "cell_type": "code",
      "metadata": {
        "id": "IJiqbFYpgYRH",
        "colab_type": "code",
        "colab": {}
      },
      "source": [
        "### Define the Pong agent ###\n",
        "\n",
        "# Functionally define layers for convenience\n",
        "# All convolutional layers will have ReLu activation\n",
        "# Conv2D = functools.partial(tf.keras.layers.Conv2D, padding='same', activation='relu')\n",
        "Flatten = tf.keras.layers.Flatten\n",
        "Dense = tf.keras.layers.Dense\n",
        "\n",
        "# Defines a CNN for the Pong agent\n",
        "def create_pong_model():\n",
        "  model = tf.keras.models.Sequential([\n",
        "    # Convolutional layers\n",
        "    # First, 16 7x7 filters with 4x4 stride\n",
        "    Conv2D(filters=16, kernel_size=7, strides=4),\n",
        "\n",
        "    # TODO: define convolutional layers with 32 5x5 filters and 2x2 stride\n",
        "    Conv2D(filters = 32, kernel_size = 5, strides = 2),\n",
        "\n",
        "    # TODO: define convolutional layers with 48 3x3 filters and 2x2 stride\n",
        "    Conv2D(filters = 48, kernel_size = 3, strides = 2),\n",
        "\n",
        "    Flatten(),\n",
        "    \n",
        "    # Fully connected layer and output\n",
        "    Dense(units=64, activation='relu'),\n",
        "    # TODO: define the output dimension of the last Dense layer. \n",
        "    # Pay attention to the space the agent needs to act in\n",
        "    Dense(n_actions)\n",
        "  \n",
        "  ])\n",
        "  return model\n",
        "\n",
        "pong_model = create_pong_model()"
      ],
      "execution_count": 0,
      "outputs": []
    },
    {
      "cell_type": "markdown",
      "metadata": {
        "id": "yaeZ067olFiJ",
        "colab_type": "text"
      },
      "source": [
        "Since we've already defined the action function, `choose_action(model, observation)`, we don't need to define it again. Instead, we'll be able to reuse it later on by passing in our new model we've just created, `pong_model`. This is awesome because our action function provides a modular and generalizable method for all sorts of RL agents!"
      ]
    },
    {
      "cell_type": "markdown",
      "metadata": {
        "id": "l0RvqOVkmc2r",
        "colab_type": "text"
      },
      "source": [
        "## 3.8 Pong-specific functions\n",
        "\n",
        "In Part 1 (Cartpole), we implemented some key functions and classes to build and train our RL agent -- `choose_action(model, observation)` and the `Memory` class, for example. However, in getting ready to apply these to a new game like Pong, we might need to make some slight modifications. \n",
        "\n",
        "Namely, we need to think about what happens when a game ends. In Pong, we know a game has ended if the reward is +1 (we won!) or -1 (we lost unfortunately). Otherwise, we expect the reward at a timestep to be zero -- the players (or agents) are just playing eachother. So, after a game ends, we will need to reset the reward to zero when a game ends. This will result in a modified reward function."
      ]
    },
    {
      "cell_type": "code",
      "metadata": {
        "id": "iEZG2o50luLu",
        "colab_type": "code",
        "colab": {}
      },
      "source": [
        "### Pong reward function ###\n",
        "\n",
        "# Compute normalized, discounted rewards for Pong (i.e., return)\n",
        "# Arguments:\n",
        "#   rewards: reward at timesteps in episode\n",
        "#   gamma: discounting factor. Note increase to 0.99 -- rate of depreciation will be slower.\n",
        "# Returns:\n",
        "#   normalized discounted reward\n",
        "def discount_rewards(rewards, gamma=0.99): \n",
        "  discounted_rewards = np.zeros_like(rewards)\n",
        "  R = 0\n",
        "  for t in reversed(range(0, len(rewards))):\n",
        "      # NEW: Reset the sum if the reward is not 0 (the game has ended!)\n",
        "      if rewards[t] != 0:\n",
        "        R = 0\n",
        "      # update the total discounted reward as before\n",
        "      R = R * gamma + rewards[t]\n",
        "      discounted_rewards[t] = R\n",
        "      \n",
        "  return normalize(discounted_rewards)"
      ],
      "execution_count": 0,
      "outputs": []
    },
    {
      "cell_type": "markdown",
      "metadata": {
        "id": "HopLpb4IoOqA",
        "colab_type": "text"
      },
      "source": [
        "Additionally, we have to consider the nature of the observations in the Pong environment, and how they will be fed into our network. Our observations in this case are images. Before we input an image into our network, we'll do a bit of pre-processing to crop and scale, clean up the background colors to a single color, and set the important game elements to a single color. Let's use this function to visualize what an observation might look like before and after pre-processing."
      ]
    },
    {
      "cell_type": "code",
      "metadata": {
        "id": "no5IIYtFm8pI",
        "colab_type": "code",
        "outputId": "97e391e8-12b5-4f30-f6cf-001ece3ae026",
        "colab": {
          "base_uri": "https://localhost:8080/",
          "height": 227
        }
      },
      "source": [
        "observation = env.reset()\n",
        "for i in range(30):\n",
        "  observation, _,_,_ = env.step(0)\n",
        "observation_pp = mdl.lab3.preprocess_pong(observation)\n",
        "\n",
        "f = plt.figure(figsize=(10,3))\n",
        "ax = f.add_subplot(121)\n",
        "ax2 = f.add_subplot(122)\n",
        "ax.imshow(observation); ax.grid(False);\n",
        "ax2.imshow(np.squeeze(observation_pp)); ax2.grid(False); plt.title('Preprocessed Observation');"
      ],
      "execution_count": 18,
      "outputs": [
        {
          "output_type": "display_data",
          "data": {
            "image/png": "[encoded data removed]",
            "text/plain": [
              "<Figure size 720x216 with 2 Axes>"
            ]
          },
          "metadata": {
            "tags": [],
            "needs_background": "light"
          }
        }
      ]
    },
    {
      "cell_type": "markdown",
      "metadata": {
        "id": "bYwIWC-Cz8F2",
        "colab_type": "text"
      },
      "source": [
        "What do you notice? How might these changes be important for training our RL algorithm?"
      ]
    },
    {
      "cell_type": "markdown",
      "metadata": {
        "id": "mRqcaDQ1pm3x",
        "colab_type": "text"
      },
      "source": [
        "## 3.9 Training Pong\n",
        "\n",
        "We're now all set up to start training our RL algorithm and agent for the game of Pong! We've already defined our loss function with `compute_loss`, which employs policy gradient learning, as well as our backpropagation step with `train_step` which is beautiful! We will use these functions to execute training the Pong agent. Let's walk through the training block.\n",
        "\n",
        "In Pong, rather than feeding our network one image at a time, it can actually improve performance to input the difference between two consecutive observations, which really gives us information about the movement between frames -- how the game is changing. We'll first pre-process the raw observation, `x`, and then we'll compute the difference with the image frame we saw one timestep before. \n",
        "\n",
        "This observation change will be forward propagated through our Pong agent, the CNN network model, which will then predict the next action to take based on this observation. The raw reward will be computed, and the observation, action, and reward will be recorded into memory. This will continue until a training episode, i.e., a game, ends.\n",
        "\n",
        "Then, we will compute the discounted rewards, and use this information to execute a training step. Memory will be cleared, and we will do it all over again!\n",
        "\n",
        "Let's run the code block to train our Pong agent. Note that completing training will take quite a bit of time (estimated at least a couple of hours). We will again visualize the evolution of the total reward as a function of training to get a sense of how the agent is learning."
      ]
    },
    {
      "cell_type": "code",
      "metadata": {
        "id": "xCwyQQrPnkZG",
        "colab_type": "code",
        "outputId": "d551807c-6912-4750-af36-0671699b784a",
        "colab": {
          "base_uri": "https://localhost:8080/",
          "height": 279
        }
      },
      "source": [
        "### Training Pong ###\n",
        "\n",
        "# Hyperparameters\n",
        "learning_rate=1e-4\n",
        "MAX_ITERS = 10000 # increase the maximum number of episodes, since Pong is more complex!\n",
        "\n",
        "# Model and optimizer\n",
        "pong_model = create_pong_model()\n",
        "optimizer = tf.keras.optimizers.Adam(learning_rate)\n",
        "\n",
        "# plotting\n",
        "smoothed_reward = mdl.util.LossHistory(smoothing_factor=0.9)\n",
        "plotter = mdl.util.PeriodicPlotter(sec=5, xlabel='Iterations', ylabel='Rewards')\n",
        "memory = Memory()\n",
        "\n",
        "for i_episode in range(MAX_ITERS):\n",
        "\n",
        "  plotter.plot(smoothed_reward.get())\n",
        "\n",
        "  # Restart the environment\n",
        "  observation = env.reset()\n",
        "  previous_frame = mdl.lab3.preprocess_pong(observation)\n",
        "\n",
        "  while True:\n",
        "      # Pre-process image \n",
        "      current_frame = mdl.lab3.preprocess_pong(observation)\n",
        "      \n",
        "      # '''TODO: determine the observation change\n",
        "      # Hint: this is the difference between the past two frames'''\n",
        "      obs_change = current_frame - previous_frame\n",
        "      \n",
        "      # '''TODO: choose an action for the pong model, using the frame difference, and evaluate'''\n",
        "      action = choose_action(model = pong_model, observation = obs_change)\n",
        "      # Take the chosen action\n",
        "      next_observation, reward, done, info = env.step(action)\n",
        "\n",
        "      # '''TODO: save the observed frame difference, the action that was taken, and the resulting reward!'''\n",
        "      memory.add_to_memory(obs_change, action, reward)\n",
        "      \n",
        "      # is the episode over? did you crash or do so well that you're done?\n",
        "      if done:\n",
        "          # determine total reward and keep a record of this\n",
        "          total_reward = sum(memory.rewards)\n",
        "          smoothed_reward.append( total_reward )\n",
        "\n",
        "          # begin training\n",
        "          train_step(pong_model, \n",
        "                     optimizer, \n",
        "                     observations = np.stack(memory.observations, 0), \n",
        "                     actions = np.array(memory.actions),\n",
        "                     discounted_rewards = discount_rewards(memory.rewards))\n",
        "          \n",
        "          memory.clear()\n",
        "          break\n",
        "\n",
        "      observation = next_observation\n",
        "      previous_frame = current_frame"
      ],
      "execution_count": 0,
      "outputs": [
        {
          "output_type": "display_data",
          "data": {
            "image/png": "[encoded data removed]",
            "text/plain": [
              "<Figure size 432x288 with 1 Axes>"
            ]
          },
          "metadata": {
            "tags": []
          }
        }
      ]
    },
    {
      "cell_type": "code",
      "metadata": {
        "id": "IA3XhNRXRxUn",
        "colab_type": "code",
        "colab": {}
      },
      "source": [
        "pong_model.save_weights('pong_model.weights')"
      ],
      "execution_count": 0,
      "outputs": []
    },
    {
      "cell_type": "markdown",
      "metadata": {
        "id": "8LiEY5Y_ts-Z",
        "colab_type": "text"
      },
      "source": [
        "Finally we can put our trained agent to the test! It will play in a newly instantiated Pong environment against the \"computer\", a base AI system for Pong. Your agent plays as the green paddle. Let's watch the match instant replay!"
      ]
    },
    {
      "cell_type": "code",
      "metadata": {
        "id": "TvHXbkL0tR6M",
        "colab_type": "code",
        "colab": {}
      },
      "source": [
        "saved_pong = mdl.lab3.save_video_of_model(\n",
        "    pong_model, \"Pong-v0\", obs_diff=True, \n",
        "    pp_fn=mdl.lab3.preprocess_pong)\n",
        "mdl.lab3.play_video(saved_pong)"
      ],
      "execution_count": 0,
      "outputs": []
    },
    {
      "cell_type": "markdown",
      "metadata": {
        "id": "TIlwIgBP3Js6",
        "colab_type": "text"
      },
      "source": [
        "## 3.10 Conclusion\n",
        "\n",
        "That's it! Congratulations on training two RL agents and putting them to the test! We encourage you to consider the following:\n",
        "\n",
        "*   How does the agent perform?\n",
        "*   Could you train it for shorter amounts of time  and still perform well?\n",
        "*   Do you think that training longer would help even more? \n",
        "* How does the complexity of Pong relative to Cartpole alter the rate at which the agent learns and its performance? \n",
        "* What are some things you could change about the agent or the learning process to potentially improve performance?\n",
        "\n",
        "If you want to go further, try to optimize your model to achieve the best performance! **[Email us](mailto:introtodeeplearning-staff@mit.edu) a copy of your notebook with the Pong training executed AND a saved video of your Pong agent competing! We'll give out prizes to the best performers!**"
      ]
    }
  ]
}